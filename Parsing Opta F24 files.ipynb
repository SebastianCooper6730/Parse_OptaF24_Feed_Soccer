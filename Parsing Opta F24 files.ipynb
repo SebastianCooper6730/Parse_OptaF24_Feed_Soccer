{
 "cells": [
  {
   "cell_type": "code",
   "execution_count": 15,
   "metadata": {},
   "outputs": [],
   "source": [
    "import csv\n",
    "import xml.etree.ElementTree as et\n",
    "import numpy as np\n",
    "from datetime import datetime as dt"
   ]
  },
  {
   "cell_type": "code",
   "execution_count": 16,
   "metadata": {},
   "outputs": [],
   "source": [
    "tree = et.ElementTree(file = \"Bolton_ManCityF24.xml\")\n",
    "games = tree.getroot()"
   ]
  },
  {
   "cell_type": "code",
   "execution_count": 17,
   "metadata": {},
   "outputs": [
    {
     "data": {
      "text/plain": [
       "{'id': '360481',\n",
       " 'away_team_id': '43',\n",
       " 'away_team_name': 'Manchester City',\n",
       " 'competition_id': '8',\n",
       " 'competition_name': 'English Barclays Premier League',\n",
       " 'game_date': '2011-08-21T16:00:00',\n",
       " 'home_team_id': '30',\n",
       " 'home_team_name': 'Bolton Wanderers',\n",
       " 'matchday': '2',\n",
       " 'period_1_start': '2011-08-21T16:00:38',\n",
       " 'period_2_start': '2011-08-21T17:03:47',\n",
       " 'season_id': '2011',\n",
       " 'season_name': 'Season 2011/2012'}"
      ]
     },
     "execution_count": 17,
     "metadata": {},
     "output_type": "execute_result"
    }
   ],
   "source": [
    "match_details = games[0].attrib\n",
    "match_details"
   ]
  },
  {
   "cell_type": "code",
   "execution_count": 18,
   "metadata": {},
   "outputs": [],
   "source": [
    "tree2 = et.ElementTree(file = \"Bolton_ManCityF7.xml\")\n",
    "soccerfeed = tree2.getroot()"
   ]
  },
  {
   "cell_type": "markdown",
   "metadata": {},
   "source": [
    "## List of players"
   ]
  },
  {
   "cell_type": "code",
   "execution_count": 20,
   "metadata": {},
   "outputs": [
    {
     "data": {
      "text/plain": [
       "{'1344': 'Jussi Jääskeläinen',\n",
       " '19419': 'Gary Cahill',\n",
       " '28183': 'Grétar Steinsson',\n",
       " '2004': 'Paul Robinson',\n",
       " '1587': 'Zat Knight',\n",
       " '18428': 'Chris Eagles',\n",
       " '27696': 'Fabrice Muamba',\n",
       " '14668': 'Nigel Reo-Coker',\n",
       " '10089': 'Martin Petrov',\n",
       " '9765': 'Ivan Klasnic',\n",
       " '3630': 'Kevin Davies',\n",
       " '15188': 'Darren Pratley',\n",
       " '105088': 'Adam Blakeman',\n",
       " '19958': 'David Wheater',\n",
       " '82263': 'Marcos Alonso',\n",
       " '1615': 'Robbie Blake',\n",
       " '19930': 'Mark Davies',\n",
       " '45175': 'Adam Bogdan',\n",
       " '15749': 'Joe Hart',\n",
       " '20492': 'Micah Richards',\n",
       " '17476': 'Vincent Kompany',\n",
       " '42593': 'Aleksandar Kolarov',\n",
       " '7551': 'Joleon Lescott',\n",
       " '1632': 'Gareth Barry',\n",
       " '15157': 'James Milner',\n",
       " '14664': 'Gnegneri Yaya Touré',\n",
       " '20664': 'David Silva',\n",
       " '42544': 'Edin Dzeko',\n",
       " '37572': 'Sergio Agüero',\n",
       " '20658': 'Pablo Zabaleta',\n",
       " '17336': 'Gaël Clichy',\n",
       " '42493': 'Mario Balotelli',\n",
       " '20312': 'Carlos Tévez',\n",
       " '65807': 'Stefan Savic',\n",
       " '19959': 'Adam Johnson',\n",
       " '56827': 'Costel Pantilimon'}"
      ]
     },
     "execution_count": 20,
     "metadata": {},
     "output_type": "execute_result"
    }
   ],
   "source": [
    "player_ids = []\n",
    "player_names = []\n",
    "\n",
    "for child in soccerfeed:\n",
    "    for grchild in child:\n",
    "        if grchild.tag == \"Team\":\n",
    "            for grgrchild in grchild:\n",
    "                if grgrchild.tag == \"Player\":\n",
    "                    player_ids.append(grgrchild.attrib[\"uID\"].lstrip('p'))\n",
    "                                    \n",
    "                    for grgrgrchild in grgrchild:\n",
    "                        player_names.append(grgrgrchild[0].text + \" \" + grgrgrchild[-1].text)\n",
    "                        \n",
    "player_dict = dict(zip(player_ids, player_names))\n",
    "player_dict"
   ]
  },
  {
   "cell_type": "markdown",
   "metadata": {},
   "source": [
    "## Match preview summary"
   ]
  },
  {
   "cell_type": "code",
   "execution_count": 63,
   "metadata": {},
   "outputs": [
    {
     "name": "stdout",
     "output_type": "stream",
     "text": [
      "Bolton Wanderers v Manchester City, Barclays Premier League 2011/2012\n",
      "Date: Sunday 21 August 2011\n",
      "Kick-off: 4PM\n"
     ]
    }
   ],
   "source": [
    "print (\"%s v %s, %s %s\" % (match_details[\"home_team_name\"],\n",
    "                          match_details[\"away_team_name\"],\n",
    "                          match_details[\"competition_name\"][8:],\n",
    "                          match_details[\"season_name\"][7:]))\n",
    "\n",
    "\n",
    "print (\"Date: %s\" % dt.strftime(dt.strptime(match_details[\"game_date\"], '%Y-%m-%dT%H:%M:%S'),\n",
    "                               \"%A %d %B %Y\"))\n",
    "\n",
    "print (\"Kick-off: %s\" % dt.strftime(dt.strptime(match_details[\"game_date\"], '%Y-%m-%dT%H:%M:%S'),\n",
    "                               \"%I%p\").lstrip(\"0\"))"
   ]
  },
  {
   "cell_type": "code",
   "execution_count": 25,
   "metadata": {},
   "outputs": [
    {
     "name": "stdout",
     "output_type": "stream",
     "text": [
      "{'30': 'Bolton Wanderers', '43': 'Manchester City'}\n"
     ]
    }
   ],
   "source": [
    "team_dict = {match_details[\"home_team_id\"]: match_details[\"home_team_name\"],\n",
    "             match_details[\"away_team_id\"]: match_details[\"away_team_name\"]}\n",
    "\n",
    "print (team_dict)"
   ]
  },
  {
   "cell_type": "markdown",
   "metadata": {},
   "source": [
    "## Passes"
   ]
  },
  {
   "cell_type": "code",
   "execution_count": 57,
   "metadata": {},
   "outputs": [
    {
     "name": "stdout",
     "output_type": "stream",
     "text": [
      "[['Manchester City' 'Sergio Agüero' '1' ... '2.5' '6.0' '1']\n",
      " ['Manchester City' 'David Silva' '1' ... '27.5' '2.4' '1']\n",
      " ['Manchester City' 'Aleksandar Kolarov' '1' ... '23.2' '6.1' '0']\n",
      " ...\n",
      " ['Manchester City' 'Micah Richards' '2' ... '31.0' '0.3' '1']\n",
      " ['Manchester City' 'Gnegneri Yaya Touré' '2' ... '5.6' '4.6' '1']\n",
      " ['Bolton Wanderers' 'Jussi Jääskeläinen' '2' ... '66.4' '6.2' '1']]\n"
     ]
    }
   ],
   "source": [
    "# PASSES\n",
    "\n",
    "passes_x = []\n",
    "passes_y = []\n",
    "passes_outcome = []\n",
    "passes_min = []\n",
    "passes_sec = []\n",
    "passes_period = []\n",
    "passes_team = []\n",
    "passes_x_end = []\n",
    "passes_y_end = []\n",
    "passes_length = []\n",
    "passes_angle = []\n",
    "passes_zone = []\n",
    "pass_real = []\n",
    "pass_player = []\n",
    "\n",
    "for game in games:\n",
    "    for event in game:\n",
    "        \n",
    "        if event.attrib.get(\"type_id\") == '1':\n",
    "            \n",
    "            passes_x.append(event.attrib.get(\"x\"))\n",
    "            passes_y.append(event.attrib.get(\"y\"))\n",
    "            passes_outcome.append(event.attrib.get(\"outcome\"))\n",
    "            passes_min.append(event.attrib.get(\"min\"))\n",
    "            passes_sec.append(event.attrib.get(\"sec\"))\n",
    "            passes_period.append(event.attrib.get(\"period_id\"))\n",
    "            passes_team.append(team_dict[event.attrib.get(\"team_id\")])\n",
    "            pass_player.append(player_dict[event.attrib.get(\"player_id\")])\n",
    "            \n",
    "            for q in event:\n",
    "                \n",
    "                qualifier = q.attrib.get(\"qualifier_id\")\n",
    "                \n",
    "                if qualifier == \"140\":\n",
    "                    passes_x_end.append(q.attrib.get(\"value\"))\n",
    "                if qualifier == \"141\":\n",
    "                    passes_y_end.append(q.attrib.get(\"value\"))\n",
    "                if qualifier == \"212\":\n",
    "                    passes_length.append(q.attrib.get(\"value\"))\n",
    "                if qualifier == \"213\":\n",
    "                    passes_angle.append(q.attrib.get(\"value\"))\n",
    "                if qualifier == \"56\":\n",
    "                    passes_zone.append(q.attrib.get(\"value\"))\n",
    "                    \n",
    "                             \n",
    "passes_df = np.array(list(zip(passes_team, pass_player, passes_period, passes_min, passes_sec, passes_zone, passes_x, \n",
    "                        passes_y, passes_x_end, passes_y_end, passes_length, passes_angle,passes_outcome)))\n",
    "\n",
    "print (passes_df)\n",
    "\n",
    "fieldnames = [\"team\", \"player\", \"period\", \"min\", \"sec\", \"pass zone\", \"x\", \"y\", \"x_end\", \"y_end\",\n",
    "              \"pass length\", \"pass angle\", \"outcome\"]\n",
    "\n",
    "with open(\"pass_data_%s_%s.csv\" % (match_details[\"home_team_name\"], match_details[\"away_team_name\"]),\"w\",newline='') as passes_csv:\n",
    "        csv_file = csv.writer(passes_csv)\n",
    "        csv_file.writerow(fieldnames)\n",
    "        for i in range(len(passes_df)):\n",
    "            csv_file.writerow(passes_df[i])"
   ]
  },
  {
   "cell_type": "markdown",
   "metadata": {},
   "source": [
    "## Goals"
   ]
  },
  {
   "cell_type": "code",
   "execution_count": 60,
   "metadata": {},
   "outputs": [
    {
     "name": "stdout",
     "output_type": "stream",
     "text": [
      "[['Manchester City' 'David Silva' '1' '25' '14' 'left foot' 'Center'\n",
      "  '78.4' '38.2' '52.1' '22.2' '1']\n",
      " ['Manchester City' 'Gareth Barry' '1' '36' '59' 'left foot' 'Center'\n",
      "  '74.8' '46.4' '46.4' '30.6' '1']\n",
      " ['Bolton Wanderers' 'Ivan Klasnic' '1' '38' '54' 'left foot' 'Center'\n",
      "  '91.4' '57.3' '50.3' '2.8' '1']\n",
      " ['Manchester City' 'Edin Dzeko' '2' '46' '39' 'right foot' 'Center'\n",
      "  '90.6' '34.7' '51.9' '6.9' '1']\n",
      " ['Bolton Wanderers' 'Kevin Davies' '2' '62' '6' 'head' 'Center' '90.7'\n",
      "  '48.8' '46.0' '9.7' '1']]\n"
     ]
    }
   ],
   "source": [
    "# GOALS\n",
    "\n",
    "goal_x = []\n",
    "goal_y = []\n",
    "goal_zone = []\n",
    "goal_outcome = []\n",
    "goal_min = []\n",
    "goal_sec = []\n",
    "goal_period = []\n",
    "goal_team = []\n",
    "goalmouth_y = []\n",
    "goalmouth_z = []\n",
    "goal_assisted = []\n",
    "body_part = []\n",
    "goal_player = []\n",
    "\n",
    "body_dict = {\"15\": \"head\",\n",
    "            \"72\": \"left foot\",\n",
    "            \"20\": \"right foot\",\n",
    "            \"21\": \"other body part\"}\n",
    "\n",
    "for game in games:\n",
    "    for event in game:\n",
    "        \n",
    "        if event.attrib.get(\"type_id\") == '16':\n",
    "            \n",
    "            goal_x.append(event.attrib.get(\"x\"))\n",
    "            goal_y.append(event.attrib.get(\"y\"))\n",
    "            goal_outcome.append(event.attrib.get(\"outcome\"))\n",
    "            goal_min.append(event.attrib.get(\"min\"))\n",
    "            goal_sec.append(event.attrib.get(\"sec\"))\n",
    "            goal_period.append(event.attrib.get(\"period_id\"))\n",
    "            goal_team.append(team_dict[event.attrib.get(\"team_id\")])\n",
    "            goal_player.append(player_dict[event.attrib.get(\"player_id\")])\n",
    "            \n",
    "            for q in event:\n",
    "                \n",
    "                qualifier = q.attrib.get(\"qualifier_id\")\n",
    "                \n",
    "                \n",
    "                if qualifier == \"103\":\n",
    "                    goalmouth_z.append(q.attrib.get(\"value\"))\n",
    "                if qualifier == \"102\":\n",
    "                    goalmouth_y.append(q.attrib.get(\"value\"))\n",
    "                if qualifier == \"56\":\n",
    "                    goal_zone.append(q.attrib.get(\"value\"))\n",
    "                if qualifier in [\"15\", \"72\", \"20\", \"21\"]:\n",
    "                    body_part.append(body_dict[qualifier])\n",
    "                \n",
    "                \n",
    "                             \n",
    "goal_df = np.array(list(zip(goal_team, goal_player, goal_period, goal_min, goal_sec, body_part, goal_zone, goal_x, \n",
    "                         goal_y, goalmouth_y, goalmouth_z, goal_outcome)))\n",
    "print (goal_df)\n",
    "\n",
    "goal_fieldnames = [\"team\", \"player\", \"period\", \"min\", \"sec\", \"body part\", \"zone\", \"x\", \"y\", \n",
    "                   \"goalmouth y\", \"goalmouth z\", \"outcome\", \"assisted\"]\n",
    "\n",
    "with open(\"goal_data_%s_%s.csv\" % (match_details[\"home_team_name\"], match_details[\"away_team_name\"]),\"w\",newline='') as goal_csv:\n",
    "        csv_file = csv.writer(goal_csv)\n",
    "        csv_file.writerow(goal_fieldnames)\n",
    "        for i in range(len(goal_df)):\n",
    "            csv_file.writerow(goal_df[i])"
   ]
  },
  {
   "cell_type": "markdown",
   "metadata": {},
   "source": [
    "## ALL SHOTS"
   ]
  },
  {
   "cell_type": "code",
   "execution_count": 62,
   "metadata": {},
   "outputs": [
    {
     "name": "stdout",
     "output_type": "stream",
     "text": [
      "[['Bolton Wanderers' 'Chris Eagles' '1' '2' '59' 'free kick' 'Shot saved'\n",
      "  'right foot' '75.9' '66.6' '' '' '98.2' '50.2']\n",
      " ['Bolton Wanderers' 'Zat Knight' '1' '10' '3' 'from corner'\n",
      "  'Shot off target' 'right foot' '87.3' '41.4' '41.1' '9.7' '' '']\n",
      " ['Bolton Wanderers' 'Kevin Davies' '1' '10' '39' 'regular play'\n",
      "  'Shot saved' 'head' '93.0' '54.8' '' '' '95.2' '54.0']\n",
      " ['Manchester City' 'James Milner' '1' '14' '39' 'regular play'\n",
      "  'Shot saved' 'right foot' '96.1' '52.5' '' '' '97.6' '52.0']\n",
      " ['Manchester City' 'David Silva' '1' '16' '26' 'regular play'\n",
      "  'Shot saved' 'left foot' '81.2' '27.6' '' '' '98.1' '47.3']\n",
      " ['Manchester City' 'Sergio Agüero' '1' '17' '52' 'regular play'\n",
      "  'Shot off target' 'right foot' '92.7' '56.4' '50.7' '70.8' '' '']\n",
      " ['Bolton Wanderers' 'Chris Eagles' '1' '21' '14' 'set piece'\n",
      "  'Shot saved' 'right foot' '79.0' '30.1' '' '' '80.2' '31.9']\n",
      " ['Manchester City' 'Sergio Agüero' '1' '24' '43' 'regular play'\n",
      "  'Shot saved' 'right foot' '89.8' '24.3' '' '' '90.7' '27.1']\n",
      " ['Manchester City' 'David Silva' '1' '25' '14' 'throw-in set piece'\n",
      "  'Goal' 'left foot' '78.4' '38.2' '52.1' '22.2' '' '']\n",
      " ['Manchester City' 'Sergio Agüero' '1' '34' '56' 'regular play'\n",
      "  'Shot off target' 'head' '92.8' '48.0' '57.8' '8.3' '' '']\n",
      " ['Manchester City' 'Gareth Barry' '1' '36' '59' 'from corner' 'Goal'\n",
      "  'left foot' '74.8' '46.4' '46.4' '30.6' '' '']\n",
      " ['Bolton Wanderers' 'Ivan Klasnic' '1' '38' '54' 'regular play' 'Goal'\n",
      "  'left foot' '91.4' '57.3' '50.3' '2.8' '' '']\n",
      " ['Manchester City' 'Edin Dzeko' '2' '46' '39' 'regular play' 'Goal'\n",
      "  'right foot' '90.6' '34.7' '51.9' '6.9' '' '']\n",
      " ['Manchester City' 'James Milner' '2' '49' '18' 'regular play'\n",
      "  'Shot saved' 'right foot' '79.3' '65.9' '' '' '98.1' '51.1']\n",
      " ['Bolton Wanderers' 'Chris Eagles' '2' '51' '11' 'regular play'\n",
      "  'Shot off target' 'right foot' '88.4' '70.6' '58.0' '5.6' '' '']\n",
      " ['Manchester City' 'James Milner' '2' '52' '36' 'regular play'\n",
      "  'Shot off target' 'right foot' '76.5' '45.3' '39.8' '37.5' '' '']\n",
      " ['Manchester City' 'Edin Dzeko' '2' '58' '39' 'from corner'\n",
      "  'Shot off target' 'head' '92.3' '46.4' '37.5' '6.9' '' '']\n",
      " ['Manchester City' 'Aleksandar Kolarov' '2' '60' '31' 'from corner'\n",
      "  'Shot saved' 'left foot' '75.1' '74.0' '' '' '88.9' '58.1']\n",
      " ['Bolton Wanderers' 'Kevin Davies' '2' '62' '6' 'set piece' 'Goal'\n",
      "  'head' '90.7' '48.8' '46.0' '9.7' '' '']\n",
      " ['Manchester City' 'Gnegneri Yaya Touré' '2' '67' '7' 'regular play'\n",
      "  'Shot off target' 'right foot' '71.4' '53.9' '34.4' '58.3' '' '']\n",
      " ['Manchester City' 'David Silva' '2' '68' '41' 'regular play'\n",
      "  'Shot saved' 'left foot' '92.7' '56.7' '' '' '94.9' '55.6']\n",
      " ['Manchester City' 'Aleksandar Kolarov' '2' '75' '6' 'regular play'\n",
      "  'Shot off target' 'left foot' '85.2' '65.1' '32.5' '1.4' '' '']\n",
      " ['Manchester City' 'Adam Johnson' '2' '83' '9' 'regular play'\n",
      "  'Shot off target' 'right foot' '95.3' '35.5' '59.9' '1.4' '' '']\n",
      " ['Manchester City' 'Carlos Tévez' '2' '85' '41' 'regular play'\n",
      "  'Shot off target' 'left foot' '87.5' '55.9' '0.2' '1.4' '' '']\n",
      " ['Manchester City' 'Carlos Tévez' '2' '91' '53' 'regular play'\n",
      "  'Shot saved' 'left foot' '91.8' '77.2' '' '' '99.7' '56.0']]\n"
     ]
    }
   ],
   "source": [
    "# ALL SHOTS\n",
    "\n",
    "shot_name = []\n",
    "shot_x = []\n",
    "shot_y = []\n",
    "shot_zone = []\n",
    "shot_min = []\n",
    "shot_sec = []\n",
    "shot_period = []\n",
    "shot_team = []\n",
    "goalmouth_y = []\n",
    "goalmouth_z = []\n",
    "saved_x = []\n",
    "saved_y = []\n",
    "body_part = []\n",
    "shot_play = []\n",
    "shot_player = []\n",
    "\n",
    "shot_dict = {'13': 'Shot off target',\n",
    "             '14': 'Post',\n",
    "             '15': 'Shot saved',\n",
    "             '16': 'Goal'}\n",
    "\n",
    "body_dict = {\"15\": \"head\",\n",
    "            \"72\": \"left foot\",\n",
    "            \"20\": \"right foot\",\n",
    "            \"21\": \"other body part\"}\n",
    "\n",
    "shot_play_dict = {'22': 'regular play',\n",
    "            '23': 'fast break',\n",
    "            '24': 'set piece',\n",
    "            '25': 'from corner',\n",
    "            '26': 'free kick',\n",
    "            '96': 'corner situation',\n",
    "            '112': 'scramble',\n",
    "            '160': 'throw-in set piece',\n",
    "            '9': 'penalty',\n",
    "            '28': 'own goal'}\n",
    "\n",
    "for game in games:\n",
    "    \n",
    "    for event in game:\n",
    "        \n",
    "        if event.attrib.get(\"type_id\") in ['13', '14', '16']:\n",
    "                    \n",
    "            shot_name.append(shot_dict[event.attrib.get(\"type_id\")])\n",
    "            shot_x.append(event.attrib.get(\"x\"))\n",
    "            shot_y.append(event.attrib.get(\"y\"))\n",
    "            shot_min.append(event.attrib.get(\"min\"))\n",
    "            shot_sec.append(event.attrib.get(\"sec\"))\n",
    "            shot_period.append(event.attrib.get(\"period_id\"))\n",
    "            shot_team.append(team_dict[event.attrib.get(\"team_id\")])\n",
    "            shot_player.append(player_dict[event.attrib.get(\"player_id\")])\n",
    "            \n",
    "            for q in event:\n",
    "                \n",
    "                qualifier = q.attrib.get(\"qualifier_id\")\n",
    "                if qualifier == '102':\n",
    "                    saved_x.append('')\n",
    "                    saved_y.append('')\n",
    "                    goalmouth_y.append(q.attrib.get(\"value\"))\n",
    "                if qualifier == '103':\n",
    "                    goalmouth_z.append(q.attrib.get(\"value\"))\n",
    "                if qualifier in body_dict.keys():\n",
    "                    body_part.append(body_dict[qualifier])\n",
    "                if qualifier in shot_play_dict.keys():\n",
    "                    shot_play.append(shot_play_dict[qualifier])\n",
    "                                   \n",
    "        if event.attrib.get(\"type_id\") == '15':\n",
    "                    \n",
    "            shot_name.append(shot_dict[event.attrib.get(\"type_id\")])\n",
    "            shot_x.append(event.attrib.get(\"x\"))\n",
    "            shot_y.append(event.attrib.get(\"y\"))\n",
    "            shot_min.append(event.attrib.get(\"min\"))\n",
    "            shot_sec.append(event.attrib.get(\"sec\"))\n",
    "            shot_period.append(event.attrib.get(\"period_id\"))\n",
    "            shot_team.append(team_dict[event.attrib.get(\"team_id\")])\n",
    "            shot_player.append(player_dict[event.attrib.get(\"player_id\")])\n",
    "                        \n",
    "            \n",
    "            for q in event:\n",
    "                \n",
    "                qualifier = q.attrib.get(\"qualifier_id\")\n",
    "                if qualifier == '146':\n",
    "                    goalmouth_y.append('')\n",
    "                    goalmouth_z.append('')\n",
    "                    saved_x.append(q.attrib.get(\"value\"))\n",
    "                if qualifier == '147':\n",
    "                    saved_y.append(q.attrib.get(\"value\"))\n",
    "                if qualifier in [\"15\", \"72\", \"20\", \"21\"]:\n",
    "                    body_part.append(body_dict[qualifier])\n",
    "                if qualifier in shot_play_dict.keys():\n",
    "                    shot_play.append(shot_play_dict[qualifier])\n",
    "                               \n",
    "                             \n",
    "shot_df = np.array(list(zip(shot_team, shot_player, shot_period, shot_min, shot_sec, shot_play, shot_name, body_part, shot_x, shot_y, \n",
    "                       goalmouth_y, goalmouth_z, saved_x, saved_y)))\n",
    "    \n",
    "print (shot_df)\n",
    "\n",
    "shot_fieldnames = [\"team\", \"player\", \"period\", \"min\", \"sec\", \"shot play\", \"shot type\", \"body part\", \"x\", \"y\", \"goalmouth y\", \n",
    "                   \"goalmouth z\", \"saved x\", \"saved y\"]\n",
    "\n",
    "with open(\"shot_data_%s_%s.csv\" % (match_details[\"home_team_name\"], match_details[\"away_team_name\"]), \n",
    "          \"w\",newline='') as shot_csv:\n",
    "        csv_file = csv.writer(shot_csv)\n",
    "        csv_file.writerow(shot_fieldnames)\n",
    "        for i in range(len(shot_df)):\n",
    "            csv_file.writerow(shot_df[i])"
   ]
  }
 ],
 "metadata": {
  "anaconda-cloud": {},
  "kernelspec": {
   "display_name": "Python 3",
   "language": "python",
   "name": "python3"
  },
  "language_info": {
   "codemirror_mode": {
    "name": "ipython",
    "version": 3
   },
   "file_extension": ".py",
   "mimetype": "text/x-python",
   "name": "python",
   "nbconvert_exporter": "python",
   "pygments_lexer": "ipython3",
   "version": "3.6.5"
  }
 },
 "nbformat": 4,
 "nbformat_minor": 1
}
